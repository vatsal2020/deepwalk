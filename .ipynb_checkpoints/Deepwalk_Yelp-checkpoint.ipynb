{
 "cells": [
  {
   "cell_type": "code",
   "execution_count": 20,
   "metadata": {
    "collapsed": true
   },
   "outputs": [],
   "source": [
    "import pandas as pd\n",
    "import numpy as np\n",
    "from sklearn.cross_validation import train_test_split\n",
    "import random \n",
    "from collections import defaultdict\n",
    "import random\n",
    "import scipy.io\n",
    "\n"
   ]
  },
  {
   "cell_type": "code",
   "execution_count": 23,
   "metadata": {
    "collapsed": false
   },
   "outputs": [
    {
     "ename": "ValueError",
     "evalue": "indices and data should have the same size",
     "output_type": "error",
     "traceback": [
      "\u001b[0;31m---------------------------------------------------------------------------\u001b[0m",
      "\u001b[0;31mValueError\u001b[0m                                Traceback (most recent call last)",
      "\u001b[0;32m<ipython-input-23-b8da87d95b7f>\u001b[0m in \u001b[0;36m<module>\u001b[0;34m()\u001b[0m\n\u001b[1;32m      1\u001b[0m \u001b[0mfile1\u001b[0m \u001b[0;34m=\u001b[0m \u001b[0;34m'./Datasets/douban/douban.mat'\u001b[0m\u001b[0;34m\u001b[0m\u001b[0m\n\u001b[0;32m----> 2\u001b[0;31m \u001b[0mAAA1\u001b[0m \u001b[0;34m=\u001b[0m \u001b[0mscipy\u001b[0m\u001b[0;34m.\u001b[0m\u001b[0mio\u001b[0m\u001b[0;34m.\u001b[0m\u001b[0mloadmat\u001b[0m\u001b[0;34m(\u001b[0m\u001b[0mfile1\u001b[0m\u001b[0;34m)\u001b[0m\u001b[0;34m\u001b[0m\u001b[0m\n\u001b[0m",
      "\u001b[0;32m/Users/shahv1/anaconda/lib/python2.7/site-packages/scipy/io/matlab/mio.pyc\u001b[0m in \u001b[0;36mloadmat\u001b[0;34m(file_name, mdict, appendmat, **kwargs)\u001b[0m\n\u001b[1;32m    133\u001b[0m     \u001b[0mvariable_names\u001b[0m \u001b[0;34m=\u001b[0m \u001b[0mkwargs\u001b[0m\u001b[0;34m.\u001b[0m\u001b[0mpop\u001b[0m\u001b[0;34m(\u001b[0m\u001b[0;34m'variable_names'\u001b[0m\u001b[0;34m,\u001b[0m \u001b[0mNone\u001b[0m\u001b[0;34m)\u001b[0m\u001b[0;34m\u001b[0m\u001b[0m\n\u001b[1;32m    134\u001b[0m     \u001b[0mMR\u001b[0m \u001b[0;34m=\u001b[0m \u001b[0mmat_reader_factory\u001b[0m\u001b[0;34m(\u001b[0m\u001b[0mfile_name\u001b[0m\u001b[0;34m,\u001b[0m \u001b[0mappendmat\u001b[0m\u001b[0;34m,\u001b[0m \u001b[0;34m**\u001b[0m\u001b[0mkwargs\u001b[0m\u001b[0;34m)\u001b[0m\u001b[0;34m\u001b[0m\u001b[0m\n\u001b[0;32m--> 135\u001b[0;31m     \u001b[0mmatfile_dict\u001b[0m \u001b[0;34m=\u001b[0m \u001b[0mMR\u001b[0m\u001b[0;34m.\u001b[0m\u001b[0mget_variables\u001b[0m\u001b[0;34m(\u001b[0m\u001b[0mvariable_names\u001b[0m\u001b[0;34m)\u001b[0m\u001b[0;34m\u001b[0m\u001b[0m\n\u001b[0m\u001b[1;32m    136\u001b[0m     \u001b[0;32mif\u001b[0m \u001b[0mmdict\u001b[0m \u001b[0;32mis\u001b[0m \u001b[0;32mnot\u001b[0m \u001b[0mNone\u001b[0m\u001b[0;34m:\u001b[0m\u001b[0;34m\u001b[0m\u001b[0m\n\u001b[1;32m    137\u001b[0m         \u001b[0mmdict\u001b[0m\u001b[0;34m.\u001b[0m\u001b[0mupdate\u001b[0m\u001b[0;34m(\u001b[0m\u001b[0mmatfile_dict\u001b[0m\u001b[0;34m)\u001b[0m\u001b[0;34m\u001b[0m\u001b[0m\n",
      "\u001b[0;32m/Users/shahv1/anaconda/lib/python2.7/site-packages/scipy/io/matlab/mio5.pyc\u001b[0m in \u001b[0;36mget_variables\u001b[0;34m(self, variable_names)\u001b[0m\n\u001b[1;32m    290\u001b[0m                 \u001b[0;32mcontinue\u001b[0m\u001b[0;34m\u001b[0m\u001b[0m\n\u001b[1;32m    291\u001b[0m             \u001b[0;32mtry\u001b[0m\u001b[0;34m:\u001b[0m\u001b[0;34m\u001b[0m\u001b[0m\n\u001b[0;32m--> 292\u001b[0;31m                 \u001b[0mres\u001b[0m \u001b[0;34m=\u001b[0m \u001b[0mself\u001b[0m\u001b[0;34m.\u001b[0m\u001b[0mread_var_array\u001b[0m\u001b[0;34m(\u001b[0m\u001b[0mhdr\u001b[0m\u001b[0;34m,\u001b[0m \u001b[0mprocess\u001b[0m\u001b[0;34m)\u001b[0m\u001b[0;34m\u001b[0m\u001b[0m\n\u001b[0m\u001b[1;32m    293\u001b[0m             \u001b[0;32mexcept\u001b[0m \u001b[0mMatReadError\u001b[0m \u001b[0;32mas\u001b[0m \u001b[0merr\u001b[0m\u001b[0;34m:\u001b[0m\u001b[0;34m\u001b[0m\u001b[0m\n\u001b[1;32m    294\u001b[0m                 warnings.warn(\n",
      "\u001b[0;32m/Users/shahv1/anaconda/lib/python2.7/site-packages/scipy/io/matlab/mio5.pyc\u001b[0m in \u001b[0;36mread_var_array\u001b[0;34m(self, header, process)\u001b[0m\n\u001b[1;32m    250\u001b[0m            \u001b[0;34m`\u001b[0m\u001b[0mprocess\u001b[0m\u001b[0;34m`\u001b[0m\u001b[0;34m.\u001b[0m\u001b[0;34m\u001b[0m\u001b[0m\n\u001b[1;32m    251\u001b[0m         '''\n\u001b[0;32m--> 252\u001b[0;31m         \u001b[0;32mreturn\u001b[0m \u001b[0mself\u001b[0m\u001b[0;34m.\u001b[0m\u001b[0m_matrix_reader\u001b[0m\u001b[0;34m.\u001b[0m\u001b[0marray_from_header\u001b[0m\u001b[0;34m(\u001b[0m\u001b[0mheader\u001b[0m\u001b[0;34m,\u001b[0m \u001b[0mprocess\u001b[0m\u001b[0;34m)\u001b[0m\u001b[0;34m\u001b[0m\u001b[0m\n\u001b[0m\u001b[1;32m    253\u001b[0m \u001b[0;34m\u001b[0m\u001b[0m\n\u001b[1;32m    254\u001b[0m     \u001b[0;32mdef\u001b[0m \u001b[0mget_variables\u001b[0m\u001b[0;34m(\u001b[0m\u001b[0mself\u001b[0m\u001b[0;34m,\u001b[0m \u001b[0mvariable_names\u001b[0m\u001b[0;34m=\u001b[0m\u001b[0mNone\u001b[0m\u001b[0;34m)\u001b[0m\u001b[0;34m:\u001b[0m\u001b[0;34m\u001b[0m\u001b[0m\n",
      "\u001b[0;32mscipy/io/matlab/mio5_utils.pyx\u001b[0m in \u001b[0;36mscipy.io.matlab.mio5_utils.VarReader5.array_from_header (scipy/io/matlab/mio5_utils.c:6415)\u001b[0;34m()\u001b[0m\n",
      "\u001b[0;32mscipy/io/matlab/mio5_utils.pyx\u001b[0m in \u001b[0;36mscipy.io.matlab.mio5_utils.VarReader5.array_from_header (scipy/io/matlab/mio5_utils.c:5891)\u001b[0;34m()\u001b[0m\n",
      "\u001b[0;32mscipy/io/matlab/mio5_utils.pyx\u001b[0m in \u001b[0;36mscipy.io.matlab.mio5_utils.VarReader5.read_struct (scipy/io/matlab/mio5_utils.c:9164)\u001b[0;34m()\u001b[0m\n",
      "\u001b[0;32mscipy/io/matlab/mio5_utils.pyx\u001b[0m in \u001b[0;36mscipy.io.matlab.mio5_utils.VarReader5.read_mi_matrix (scipy/io/matlab/mio5_utils.c:5418)\u001b[0;34m()\u001b[0m\n",
      "\u001b[0;32mscipy/io/matlab/mio5_utils.pyx\u001b[0m in \u001b[0;36mscipy.io.matlab.mio5_utils.VarReader5.array_from_header (scipy/io/matlab/mio5_utils.c:5758)\u001b[0;34m()\u001b[0m\n",
      "\u001b[0;32mscipy/io/matlab/mio5_utils.pyx\u001b[0m in \u001b[0;36mscipy.io.matlab.mio5_utils.VarReader5.read_sparse (scipy/io/matlab/mio5_utils.c:7315)\u001b[0;34m()\u001b[0m\n",
      "\u001b[0;32m/Users/shahv1/anaconda/lib/python2.7/site-packages/scipy/sparse/compressed.pyc\u001b[0m in \u001b[0;36m__init__\u001b[0;34m(self, arg1, shape, dtype, copy)\u001b[0m\n\u001b[1;32m     86\u001b[0m             \u001b[0mself\u001b[0m\u001b[0;34m.\u001b[0m\u001b[0mdata\u001b[0m \u001b[0;34m=\u001b[0m \u001b[0mnp\u001b[0m\u001b[0;34m.\u001b[0m\u001b[0masarray\u001b[0m\u001b[0;34m(\u001b[0m\u001b[0mself\u001b[0m\u001b[0;34m.\u001b[0m\u001b[0mdata\u001b[0m\u001b[0;34m,\u001b[0m \u001b[0mdtype\u001b[0m\u001b[0;34m=\u001b[0m\u001b[0mdtype\u001b[0m\u001b[0;34m)\u001b[0m\u001b[0;34m\u001b[0m\u001b[0m\n\u001b[1;32m     87\u001b[0m \u001b[0;34m\u001b[0m\u001b[0m\n\u001b[0;32m---> 88\u001b[0;31m         \u001b[0mself\u001b[0m\u001b[0;34m.\u001b[0m\u001b[0mcheck_format\u001b[0m\u001b[0;34m(\u001b[0m\u001b[0mfull_check\u001b[0m\u001b[0;34m=\u001b[0m\u001b[0mFalse\u001b[0m\u001b[0;34m)\u001b[0m\u001b[0;34m\u001b[0m\u001b[0m\n\u001b[0m\u001b[1;32m     89\u001b[0m \u001b[0;34m\u001b[0m\u001b[0m\n\u001b[1;32m     90\u001b[0m     \u001b[0;32mdef\u001b[0m \u001b[0mgetnnz\u001b[0m\u001b[0;34m(\u001b[0m\u001b[0mself\u001b[0m\u001b[0;34m,\u001b[0m \u001b[0maxis\u001b[0m\u001b[0;34m=\u001b[0m\u001b[0mNone\u001b[0m\u001b[0;34m)\u001b[0m\u001b[0;34m:\u001b[0m\u001b[0;34m\u001b[0m\u001b[0m\n",
      "\u001b[0;32m/Users/shahv1/anaconda/lib/python2.7/site-packages/scipy/sparse/compressed.pyc\u001b[0m in \u001b[0;36mcheck_format\u001b[0;34m(self, full_check)\u001b[0m\n\u001b[1;32m    165\u001b[0m         \u001b[0;31m# check index and data arrays\u001b[0m\u001b[0;34m\u001b[0m\u001b[0;34m\u001b[0m\u001b[0m\n\u001b[1;32m    166\u001b[0m         \u001b[0;32mif\u001b[0m \u001b[0;34m(\u001b[0m\u001b[0mlen\u001b[0m\u001b[0;34m(\u001b[0m\u001b[0mself\u001b[0m\u001b[0;34m.\u001b[0m\u001b[0mindices\u001b[0m\u001b[0;34m)\u001b[0m \u001b[0;34m!=\u001b[0m \u001b[0mlen\u001b[0m\u001b[0;34m(\u001b[0m\u001b[0mself\u001b[0m\u001b[0;34m.\u001b[0m\u001b[0mdata\u001b[0m\u001b[0;34m)\u001b[0m\u001b[0;34m)\u001b[0m\u001b[0;34m:\u001b[0m\u001b[0;34m\u001b[0m\u001b[0m\n\u001b[0;32m--> 167\u001b[0;31m             \u001b[0;32mraise\u001b[0m \u001b[0mValueError\u001b[0m\u001b[0;34m(\u001b[0m\u001b[0;34m\"indices and data should have the same size\"\u001b[0m\u001b[0;34m)\u001b[0m\u001b[0;34m\u001b[0m\u001b[0m\n\u001b[0m\u001b[1;32m    168\u001b[0m         \u001b[0;32mif\u001b[0m \u001b[0;34m(\u001b[0m\u001b[0mself\u001b[0m\u001b[0;34m.\u001b[0m\u001b[0mindptr\u001b[0m\u001b[0;34m[\u001b[0m\u001b[0;34m-\u001b[0m\u001b[0;36m1\u001b[0m\u001b[0;34m]\u001b[0m \u001b[0;34m>\u001b[0m \u001b[0mlen\u001b[0m\u001b[0;34m(\u001b[0m\u001b[0mself\u001b[0m\u001b[0;34m.\u001b[0m\u001b[0mindices\u001b[0m\u001b[0;34m)\u001b[0m\u001b[0;34m)\u001b[0m\u001b[0;34m:\u001b[0m\u001b[0;34m\u001b[0m\u001b[0m\n\u001b[1;32m    169\u001b[0m             raise ValueError(\"Last value of index pointer should be less than \"\n",
      "\u001b[0;31mValueError\u001b[0m: indices and data should have the same size"
     ]
    }
   ],
   "source": [
    "file1 = './Datasets/douban/douban.mat'\n",
    "AAA1 = scipy.io.loadmat(file1)"
   ]
  },
  {
   "cell_type": "code",
   "execution_count": 24,
   "metadata": {
    "collapsed": false
   },
   "outputs": [],
   "source": [
    "#Setting a random seed\n",
    "random.seed(1234)\n",
    "\n",
    "#creating a dictionary based on the outputs.\n",
    "def readoriginaldata():  \n",
    "    data = np.loadtxt('./example_graphs/Epinions/ratings_data.txt')\n",
    "    return data    \n",
    "\n",
    "c = readoriginaldata()\n",
    "\n",
    "#Training Test Split\n",
    "def train_test_split1(c, split):\n",
    "    cTrain, cTest = train_test_split(c, test_size = split, random_state = 1)\n",
    "    cTrain[:,1] = cTrain[:,1] + max(c[:,0]) \n",
    "    tempmax = max(c[:,0]) \n",
    "    np.savetxt('Ratings_All_0_2_S.Edgelist', cTrain, fmt='%6d')\n",
    "    return cTrain, cTest, tempmax\n",
    "\n",
    "cTrain, cTest, tempmax = train_test_split1(c, 0.2)\n",
    "\n",
    "#Embeddings generated by Deepwalk\n",
    "def readEmbedData():  \n",
    "    dataEmbed = pd.read_csv('./example_graphs/Epinions/Ratings_Epinions_0_2_S.embeddings')\n",
    "    return dataEmbed\n",
    "\n",
    "dataEmbed = readEmbedData()\n",
    "\n",
    "#Creating a new Embedding matrix\n",
    "def createDict(dataEmbed):\n",
    "    dataEmbed = np.array(dataEmbed)\n",
    "    dEmbed = [map(float, dataEmbed[i][0].split(' ')) for i in range(np.shape(dataEmbed)[0])]\n",
    "    #print np.max(dEmbed)\n",
    "    dEmbedDict = dict()\n",
    "    for j in range(np.shape(dEmbed)[0]):\n",
    "        if dEmbed[j][0] in dEmbedDict:\n",
    "            dEmbedDict[dEmbed[j][0]].append(np.array(dEmbed[j][1:]))\n",
    "        else:\n",
    "            dEmbedDict[dEmbed[j][0]] = np.array(dEmbed[j][1:])          \n",
    "    return dEmbedDict\n",
    "\n",
    "vec = createDict(dataEmbed)\n",
    "\n",
    "vecUsersMean = np.mean(dict((k, v) for k, v in vec.items() if k <= tempmax).values(),axis = 0)\n",
    "vecMoviesMean = np.mean(dict((k, v) for k, v in vec.items() if k > tempmax).values(),axis = 0)\n",
    "#print vecUsersMean, vecMoviesMean\n",
    "#print np.inner(vecUsersMean, vecMoviesMean)\n",
    "\n",
    "def evalRecoSys(vec, n, cTest, tempmax, vecMoviesMean, vecUsersMean):\n",
    "    cTestMod = np.zeros((np.shape(cTest)[0], np.shape(cTest)[1]+1))\n",
    "    cTestMod[:,:-1] = cTest\n",
    "    for i in range(np.shape(cTest)[0]):\n",
    "        userId = cTest[i][0]\n",
    "        movieId = cTest[i][1] + tempmax\n",
    "        if userId in vec:\n",
    "            if movieId in vec:\n",
    "                cTestMod[i][3] = np.inner(vec[userId], vec[movieId])*1.0/(np.linalg.norm(vec[userId])*np.linalg.norm(vec[movieId])) \n",
    "            else:\n",
    "                cTestMod[i][3] = np.inner(vec[userId], vecMoviesMean)*1.0/(np.linalg.norm(vec[userId])*np.linalg.norm(vecMoviesMean))\n",
    "        else:\n",
    "            if movieId in vec:\n",
    "                cTestMod[i][3] = np.inner(vecUsersMean, vec[movieId])*1.0/(np.linalg.norm(vecUsersMean)*np.linalg.norm(vec[movieId]))\n",
    "            else:    \n",
    "                cTestMod[i][3] = np.inner(vecUsersMean, vecMoviesMean)*1.0/(np.linalg.norm(vecUsersMean)*np.linalg.norm(vecMoviesMean))\n",
    "    return cTestMod #count*1.0/np.shape(cTest)[0]\n",
    "\n",
    "cTestMod = evalRecoSys(vec,1,cTest,tempmax,vecMoviesMean, vecUsersMean)\n",
    "    \n",
    "\n",
    "def precisionTopn(cTestMod,n):\n",
    "    dictTopn = defaultdict(list)\n",
    "    for i in range(np.shape(cTestMod)[0]):\n",
    "        if cTestMod[i][0] not in dictTopn.keys():\n",
    "            dictTopn[cTestMod[i][0]] = []\n",
    "            dictTopn[cTestMod[i][0]].append(list(cTestMod[i][1:]))\n",
    "        else:\n",
    "            dictTopn[cTestMod[i][0]].append(list(cTestMod[i][1:]))\n",
    "    correct = 0.0\n",
    "    incorrect = 0.0\n",
    "    count = 0.0\n",
    "    for j in dictTopn.keys():        \n",
    "        if np.shape(dictTopn[j])[0]>n:\n",
    "            count += 1\n",
    "            arr =np.array(dictTopn[j][:])\n",
    "            correct += np.sum(arr[arr[:, 2].argsort()][-n:,1] >= arr[arr[:, 1].argsort()][-n][1])\n",
    "            incorrect += np.sum(arr[arr[:, 2].argsort()][-n:,1] < arr[arr[:, 1].argsort()][-n][1])         \n",
    "    print count, correct/(correct+incorrect)    \n",
    "    return dictTopn,correct, incorrect, count\n",
    "                \n",
    "\n",
    "def recallTopn(cTestMod, n):\n",
    "    dictRTopn = defaultdict(list)\n",
    "    for i in range(np.shape(cTestMod)[0]):\n",
    "        if cTestMod[i][0] not in dictRTopn.keys():\n",
    "            dictRTopn[cTestMod[i][0]] = []\n",
    "            dictRTopn[cTestMod[i][0]].append(list(cTestMod[i][1:]))\n",
    "        else:\n",
    "            dictRTopn[cTestMod[i][0]].append(list(cTestMod[i][1:]))\n",
    "    correct = 0.0\n",
    "    incorrect = 0.0\n",
    "    count = 0.0\n",
    "    for j in dictRTopn.keys():        \n",
    "        if np.shape(dictRTopn[j])[0]>n:\n",
    "            count += 1\n",
    "            arr =np.array(dictRTopn[j][:])\n",
    "            randItem = arr[arr[:, 1].argsort()][-random.randint(1,n)]\n",
    "            if randItem[0] in arr[arr[:, 2].argsort()][-n:,0]:\n",
    "                correct += 1\n",
    "            else:\n",
    "                incorrect += 1\n",
    "    print count, correct/(correct+incorrect)\n",
    "    return dictRTopn, correct, incorrect, count\n",
    "#cTrainT = cTrain[:,np.argsort([1,0,2])]\n",
    "\n",
    "#cTrainComb = np.vstack((cTrain, cTrainT))\n",
    "#print cTrainT, np.shape(cTrain), np.shape(cTrainT), np.shape(cTrainComb)\n",
    "\n",
    "\n"
   ]
  },
  {
   "cell_type": "code",
   "execution_count": null,
   "metadata": {
    "collapsed": true
   },
   "outputs": [],
   "source": []
  },
  {
   "cell_type": "code",
   "execution_count": 2,
   "metadata": {
    "collapsed": false
   },
   "outputs": [
    {
     "ename": "AttributeError",
     "evalue": "'module' object has no attribute 'io'",
     "output_type": "error",
     "traceback": [
      "\u001b[0;31m---------------------------------------------------------------------------\u001b[0m",
      "\u001b[0;31mAttributeError\u001b[0m                            Traceback (most recent call last)",
      "\u001b[0;32m<ipython-input-2-fde4344228c9>\u001b[0m in \u001b[0;36m<module>\u001b[0;34m()\u001b[0m\n\u001b[0;32m----> 1\u001b[0;31m \u001b[0mA\u001b[0m \u001b[0;34m=\u001b[0m \u001b[0mscipy\u001b[0m\u001b[0;34m.\u001b[0m\u001b[0mio\u001b[0m\u001b[0;34m.\u001b[0m\u001b[0mloadmat\u001b[0m\u001b[0;34m(\u001b[0m\u001b[0;34m'.\\Datasets\\douban\\douban.mat'\u001b[0m\u001b[0;34m)\u001b[0m\u001b[0;34m\u001b[0m\u001b[0m\n\u001b[0m",
      "\u001b[0;31mAttributeError\u001b[0m: 'module' object has no attribute 'io'"
     ]
    }
   ],
   "source": []
  },
  {
   "cell_type": "code",
   "execution_count": 6,
   "metadata": {
    "collapsed": false
   },
   "outputs": [
    {
     "name": "stdout",
     "output_type": "stream",
     "text": [
      "17948.0 0.551370626254\n",
      "10081.0 0.638494858314\n",
      "6299.0 0.67766312113\n",
      "2664.0 0.725075075075\n",
      "17948.0 0.272008023178\n",
      "10081.0 0.454518400952\n",
      "6299.0 0.5173837117\n",
      "2664.0 0.600600600601\n"
     ]
    }
   ],
   "source": [
    "A1, B1, C1, D1 = precisionTopn(cTestMod, tempmax, 1)\n",
    "\n",
    "A3, B3, C3, D3 = precisionTopn(cTestMod, tempmax, 3)\n",
    "\n",
    "A5, B5, C5, D5 = precisionTopn(cTestMod, tempmax, 5)\n",
    "\n",
    "A10, B10, C10, D10 = precisionTopn(cTestMod, tempmax, 10)\n",
    "\n",
    "R1, S1, T1, U1 = recallTopn(cTestMod, tempmax, 1)\n",
    "\n",
    "R3, S3, T3, U3 = recallTopn(cTestMod, tempmax, 3)\n",
    "\n",
    "R5, S5, T5, U5 = recallTopn(cTestMod, tempmax, 5)\n",
    "\n",
    "R10, S10, T10, U10 = recallTopn(cTestMod, tempmax, 10)"
   ]
  },
  {
   "cell_type": "code",
   "execution_count": 15,
   "metadata": {
    "collapsed": false
   },
   "outputs": [
    {
     "name": "stdout",
     "output_type": "stream",
     "text": [
      "(49290, 64) [  86.41751891   86.44999022   86.66401734   87.16972521   87.27506927\n",
      "   87.70086099   88.68576352   88.78484946   89.32399124   89.70169606\n",
      "   89.74448259   90.14149118   90.51375379   90.90214914   91.64072228\n",
      "   92.17345468   92.36502059   93.00035841   93.44307614   93.94983177\n",
      "   94.46264589   94.66194022   95.6131031    95.97049342   96.31529322\n",
      "   97.12219602   97.22916899   97.97854724   98.45640513   99.38784468\n",
      "  100.03791472  101.05766151  101.75067026  102.04597065  103.45954\n",
      "  104.4934357   104.90958051  105.56121786  106.99121026  107.32720614\n",
      "  107.97478462  108.35900228  108.96699096  110.03830179  110.56699983\n",
      "  112.1768973   113.01154894  113.16180654  113.77694309  114.26748824\n",
      "  115.49381208  116.64140562  117.42250821  118.34792205  121.5048287\n",
      "  125.00086013  127.69910021  129.25510137  131.47204561  135.85640421\n",
      "  138.87413838  156.51590803  189.32208915  260.76497968] (64, 189027)\n"
     ]
    }
   ],
   "source": [
    "import numpy as np\n",
    "import scipy.sparse as sps\n",
    "\n",
    "\n",
    "graph = sps.csr_matrix((cTrain[:,2], (cTrain[:,0], cTrain[:,1])))\n",
    "U,S,V = sps.linalg.svds(graph, k=64, ncv=None, tol=0, which='LM', v0=None, maxiter=None, return_singular_vectors=True)\n",
    "print np.shape(U),S,np.shape(V)\n",
    "\n"
   ]
  },
  {
   "cell_type": "code",
   "execution_count": 50,
   "metadata": {
    "collapsed": false
   },
   "outputs": [
    {
     "name": "stderr",
     "output_type": "stream",
     "text": [
      "/Users/shahv1/anaconda/lib/python2.7/site-packages/ipykernel/__main__.py:7: DeprecationWarning: using a non-integer number instead of an integer will result in an error in the future\n"
     ]
    }
   ],
   "source": [
    "def evalRecoSysSVD(U, S, V, cTest, tempmax):\n",
    "    cTestMod = np.zeros((np.shape(cTest)[0], np.shape(cTest)[1]+1))\n",
    "    cTestMod[:,:-1] = cTest\n",
    "    for i in range(np.shape(cTest)[0]):\n",
    "        userId = cTest[i][0]\n",
    "        movieId = cTest[i][1]\n",
    "        cTestMod[i][3] = np.inner(U[userId,:], V[:,movieId])*1.0 #/(np.linalg.norm(U[userId,:])*np.linalg.norm(V[:,movieId])) \n",
    "        #if userId in vec:\n",
    "        #    if movieId in vec:\n",
    "        #        cTestMod[i][3] = np.inner(U[userId,:], V[:,movieId])*1.0/(np.linalg.norm(U[userId,:])*np.linalg.norm(V[:,movieId])) \n",
    "        #    else:\n",
    "        #        cTestMod[i][3] = np.inner(vec[userId], vecMoviesMean)*1.0/(np.linalg.norm(vec[userId])*np.linalg.norm(vecMoviesMean))\n",
    "        #else:\n",
    "        #    if movieId in vec:\n",
    "        #        cTestMod[i][3] = np.inner(vecUsersMean, vec[movieId])*1.0/(np.linalg.norm(vecUsersMean)*np.linalg.norm(vec[movieId]))\n",
    "        #    else:    \n",
    "        #        cTestMod[i][3] = np.inner(vecUsersMean, vecMoviesMean)*1.0/(np.linalg.norm(vecUsersMean)*np.linalg.norm(vecMoviesMean))\n",
    "    return cTestMod #count*1.0/np.shape(cTest)[0]\n",
    "\n",
    "cTestMod = evalRecoSysSVD(U, S, V, cTest, tempmax)"
   ]
  },
  {
   "cell_type": "code",
   "execution_count": 51,
   "metadata": {
    "collapsed": false
   },
   "outputs": [
    {
     "name": "stdout",
     "output_type": "stream",
     "text": [
      "17948.0 0.561845330956\n",
      "10081.0 0.645537810402\n",
      "6299.0 0.680139704715\n",
      "2664.0 0.728378378378\n",
      "17948.0 0.381100958324\n",
      "10081.0 0.520682471977\n",
      "6299.0 0.567074138752\n",
      "2664.0 0.614489489489\n"
     ]
    }
   ],
   "source": [
    "AA1, BB1, CC1, DD1 = precisionTopn(cTestMod, 1)\n",
    "AA3, BB3, CC3, DD3 = precisionTopn(cTestMod, 3)\n",
    "AA5, BB5, CC5, DD5 = precisionTopn(cTestMod, 5)\n",
    "AA10, BB10, CC10, DD10 = precisionTopn(cTestMod, 10)\n",
    "\n",
    "RR1, SS1, TT1, UU1 = recallTopn(cTestMod, 1)\n",
    "RR3, SS3, TT3, UU3 = recallTopn(cTestMod, 3)\n",
    "RR5, SS5, TT5, UU5 = recallTopn(cTestMod, 5)\n",
    "RR10, SS10, TT10, UU10 = recallTopn(cTestMod, 10)"
   ]
  },
  {
   "cell_type": "code",
   "execution_count": null,
   "metadata": {
    "collapsed": true
   },
   "outputs": [],
   "source": [
    "def matrixfactorization(vec, tempmax, vecMoviesMean, vecUsersMean, iter_n, cTrain):\n",
    "    while i < range(10*np.shape(cTrain)[0]):\n",
    "        randomId = random.randint(1,np.shape(cTrain)[0])\n",
    "        userId = cTrain[randomId][0]\n",
    "        movieId = cTrain[randomId][1] + tempmax\n",
    "        vec\n",
    "        \n",
    "        \n",
    "        \n",
    "        \n",
    "        "
   ]
  },
  {
   "cell_type": "code",
   "execution_count": null,
   "metadata": {
    "collapsed": false
   },
   "outputs": [],
   "source": [
    "#Extra functions   \n",
    "#Finding graph statistics\n",
    "def degreeStats(cTrain):\n",
    "    size = np.shape(cTrain)[0]\n",
    "    cTrain.astype(int)\n",
    "    nodes = np.zeros((size,1))\n",
    "    for i in range(size):\n",
    "        nodes[cTrain[i][0]] += cTrain[i][2]\n",
    "        nodes[cTrain[i][1]] += cTrain[i][2]\n",
    "    nodes = nodes/2.0\n",
    "    nodesMean = np.mean(nodes)\n",
    "    nodesVar = np.var(nodes)\n",
    "    return  nodesMean, nodesVar\n",
    "\n",
    "avgDegree, varDegree = degreeStats(cTrain)\n",
    "        \n",
    "    \n",
    "def countTestSet(cTestMod, tempmax):\n",
    "    countUser = np.zeros(tempmax+1)\n",
    "    for i in range(np.shape(cTestMod)[0]):\n",
    "        countUser[cTestMod[i][0]] += 1\n",
    "    return countUser\n",
    "\n",
    "Out = countTestSet(cTestMod, tempmax)    \n",
    "print np.sum(Out>5)\n",
    "print cTestMod"
   ]
  },
  {
   "cell_type": "code",
   "execution_count": 47,
   "metadata": {
    "collapsed": false
   },
   "outputs": [
    {
     "name": "stdout",
     "output_type": "stream",
     "text": [
      "37799.0\n"
     ]
    }
   ],
   "source": [
    "randomId = random.randint(1,np.shape(cTrain)[0])\n",
    "userId = cTrain[randomId][0]\n",
    "print userId"
   ]
  },
  {
   "cell_type": "code",
   "execution_count": null,
   "metadata": {
    "collapsed": true
   },
   "outputs": [],
   "source": []
  },
  {
   "cell_type": "code",
   "execution_count": null,
   "metadata": {
    "collapsed": true
   },
   "outputs": [],
   "source": []
  }
 ],
 "metadata": {
  "kernelspec": {
   "display_name": "Python 2",
   "language": "python",
   "name": "python2"
  },
  "language_info": {
   "codemirror_mode": {
    "name": "ipython",
    "version": 2
   },
   "file_extension": ".py",
   "mimetype": "text/x-python",
   "name": "python",
   "nbconvert_exporter": "python",
   "pygments_lexer": "ipython2",
   "version": "2.7.11"
  }
 },
 "nbformat": 4,
 "nbformat_minor": 0
}
